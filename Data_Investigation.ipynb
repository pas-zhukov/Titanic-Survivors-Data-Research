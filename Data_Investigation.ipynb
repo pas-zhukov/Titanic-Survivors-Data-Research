{
 "cells": [
  {
   "cell_type": "markdown",
   "source": [
    "# Анализ и подготовка данных\n",
    "\n",
    "---\n",
    "\n",
    "Если бегло взглянуть на полученные данные, сразу бросается в глаза несколько проблем:\n",
    "\n",
    "* Необходимость кодирования (векторизации) имён пассажиров.\n",
    "* Некоторые номера билетов содержат символы. Логично будет векторизовать символьную часть билета.\n",
    "* Пропущенные значения возраста и номера кабины. Причем если пропущенных значений возраста не слишком много, то номер кабины пропущен у большинства пассажиров.\n",
    "* Необходимость векторизовать порт посадки.\n",
    "\n",
    "*P.S. В данном ноутбуке я провожу по большей части разведовательный анализ данных. Окончательные преобразования прописаны в классе TitanicDataset в файле* **`data_functions.py`**."
   ],
   "metadata": {
    "collapsed": false
   }
  },
  {
   "cell_type": "markdown",
   "source": [
    "### Начнём с векторизации имён\n",
    "\n",
    "---\n",
    "\n",
    "*Для этого будем использовать модель мешка слов (Bag of words).*"
   ],
   "metadata": {
    "collapsed": false
   }
  },
  {
   "cell_type": "code",
   "execution_count": 6,
   "outputs": [
    {
     "data": {
      "text/plain": "     PassengerId  Survived  Pclass  \\\n0              1         0       3   \n1              2         1       1   \n2              3         1       3   \n3              4         1       1   \n4              5         0       3   \n..           ...       ...     ...   \n886          887         0       2   \n887          888         1       1   \n888          889         0       3   \n889          890         1       1   \n890          891         0       3   \n\n                                                  Name     Sex   Age  SibSp  \\\n0                              Braund, Mr. Owen Harris    male  22.0      1   \n1    Cumings, Mrs. John Bradley (Florence Briggs Th...  female  38.0      1   \n2                               Heikkinen, Miss. Laina  female  26.0      0   \n3         Futrelle, Mrs. Jacques Heath (Lily May Peel)  female  35.0      1   \n4                             Allen, Mr. William Henry    male  35.0      0   \n..                                                 ...     ...   ...    ...   \n886                              Montvila, Rev. Juozas    male  27.0      0   \n887                       Graham, Miss. Margaret Edith  female  19.0      0   \n888           Johnston, Miss. Catherine Helen \"Carrie\"  female   NaN      1   \n889                              Behr, Mr. Karl Howell    male  26.0      0   \n890                                Dooley, Mr. Patrick    male  32.0      0   \n\n     Parch            Ticket     Fare Cabin Embarked  \n0        0         A/5 21171   7.2500   NaN        S  \n1        0          PC 17599  71.2833   C85        C  \n2        0  STON/O2. 3101282   7.9250   NaN        S  \n3        0            113803  53.1000  C123        S  \n4        0            373450   8.0500   NaN        S  \n..     ...               ...      ...   ...      ...  \n886      0            211536  13.0000   NaN        S  \n887      0            112053  30.0000   B42        S  \n888      2        W./C. 6607  23.4500   NaN        S  \n889      0            111369  30.0000  C148        C  \n890      0            370376   7.7500   NaN        Q  \n\n[891 rows x 12 columns]",
      "text/html": "<div>\n<style scoped>\n    .dataframe tbody tr th:only-of-type {\n        vertical-align: middle;\n    }\n\n    .dataframe tbody tr th {\n        vertical-align: top;\n    }\n\n    .dataframe thead th {\n        text-align: right;\n    }\n</style>\n<table border=\"1\" class=\"dataframe\">\n  <thead>\n    <tr style=\"text-align: right;\">\n      <th></th>\n      <th>PassengerId</th>\n      <th>Survived</th>\n      <th>Pclass</th>\n      <th>Name</th>\n      <th>Sex</th>\n      <th>Age</th>\n      <th>SibSp</th>\n      <th>Parch</th>\n      <th>Ticket</th>\n      <th>Fare</th>\n      <th>Cabin</th>\n      <th>Embarked</th>\n    </tr>\n  </thead>\n  <tbody>\n    <tr>\n      <th>0</th>\n      <td>1</td>\n      <td>0</td>\n      <td>3</td>\n      <td>Braund, Mr. Owen Harris</td>\n      <td>male</td>\n      <td>22.0</td>\n      <td>1</td>\n      <td>0</td>\n      <td>A/5 21171</td>\n      <td>7.2500</td>\n      <td>NaN</td>\n      <td>S</td>\n    </tr>\n    <tr>\n      <th>1</th>\n      <td>2</td>\n      <td>1</td>\n      <td>1</td>\n      <td>Cumings, Mrs. John Bradley (Florence Briggs Th...</td>\n      <td>female</td>\n      <td>38.0</td>\n      <td>1</td>\n      <td>0</td>\n      <td>PC 17599</td>\n      <td>71.2833</td>\n      <td>C85</td>\n      <td>C</td>\n    </tr>\n    <tr>\n      <th>2</th>\n      <td>3</td>\n      <td>1</td>\n      <td>3</td>\n      <td>Heikkinen, Miss. Laina</td>\n      <td>female</td>\n      <td>26.0</td>\n      <td>0</td>\n      <td>0</td>\n      <td>STON/O2. 3101282</td>\n      <td>7.9250</td>\n      <td>NaN</td>\n      <td>S</td>\n    </tr>\n    <tr>\n      <th>3</th>\n      <td>4</td>\n      <td>1</td>\n      <td>1</td>\n      <td>Futrelle, Mrs. Jacques Heath (Lily May Peel)</td>\n      <td>female</td>\n      <td>35.0</td>\n      <td>1</td>\n      <td>0</td>\n      <td>113803</td>\n      <td>53.1000</td>\n      <td>C123</td>\n      <td>S</td>\n    </tr>\n    <tr>\n      <th>4</th>\n      <td>5</td>\n      <td>0</td>\n      <td>3</td>\n      <td>Allen, Mr. William Henry</td>\n      <td>male</td>\n      <td>35.0</td>\n      <td>0</td>\n      <td>0</td>\n      <td>373450</td>\n      <td>8.0500</td>\n      <td>NaN</td>\n      <td>S</td>\n    </tr>\n    <tr>\n      <th>...</th>\n      <td>...</td>\n      <td>...</td>\n      <td>...</td>\n      <td>...</td>\n      <td>...</td>\n      <td>...</td>\n      <td>...</td>\n      <td>...</td>\n      <td>...</td>\n      <td>...</td>\n      <td>...</td>\n      <td>...</td>\n    </tr>\n    <tr>\n      <th>886</th>\n      <td>887</td>\n      <td>0</td>\n      <td>2</td>\n      <td>Montvila, Rev. Juozas</td>\n      <td>male</td>\n      <td>27.0</td>\n      <td>0</td>\n      <td>0</td>\n      <td>211536</td>\n      <td>13.0000</td>\n      <td>NaN</td>\n      <td>S</td>\n    </tr>\n    <tr>\n      <th>887</th>\n      <td>888</td>\n      <td>1</td>\n      <td>1</td>\n      <td>Graham, Miss. Margaret Edith</td>\n      <td>female</td>\n      <td>19.0</td>\n      <td>0</td>\n      <td>0</td>\n      <td>112053</td>\n      <td>30.0000</td>\n      <td>B42</td>\n      <td>S</td>\n    </tr>\n    <tr>\n      <th>888</th>\n      <td>889</td>\n      <td>0</td>\n      <td>3</td>\n      <td>Johnston, Miss. Catherine Helen \"Carrie\"</td>\n      <td>female</td>\n      <td>NaN</td>\n      <td>1</td>\n      <td>2</td>\n      <td>W./C. 6607</td>\n      <td>23.4500</td>\n      <td>NaN</td>\n      <td>S</td>\n    </tr>\n    <tr>\n      <th>889</th>\n      <td>890</td>\n      <td>1</td>\n      <td>1</td>\n      <td>Behr, Mr. Karl Howell</td>\n      <td>male</td>\n      <td>26.0</td>\n      <td>0</td>\n      <td>0</td>\n      <td>111369</td>\n      <td>30.0000</td>\n      <td>C148</td>\n      <td>C</td>\n    </tr>\n    <tr>\n      <th>890</th>\n      <td>891</td>\n      <td>0</td>\n      <td>3</td>\n      <td>Dooley, Mr. Patrick</td>\n      <td>male</td>\n      <td>32.0</td>\n      <td>0</td>\n      <td>0</td>\n      <td>370376</td>\n      <td>7.7500</td>\n      <td>NaN</td>\n      <td>Q</td>\n    </tr>\n  </tbody>\n</table>\n<p>891 rows × 12 columns</p>\n</div>"
     },
     "execution_count": 6,
     "metadata": {},
     "output_type": "execute_result"
    }
   ],
   "source": [
    "import pandas as pd\n",
    "\n",
    "# Считаем файл с данными\n",
    "df = pd.read_csv('train.csv')\n",
    "# Взглянем на данные!\n",
    "df"
   ],
   "metadata": {
    "collapsed": false
   }
  },
  {
   "cell_type": "code",
   "execution_count": 4,
   "outputs": [
    {
     "data": {
      "text/plain": "<Figure size 1500x480 with 1 Axes>",
      "image/png": "[encoded data removed]"
     },
     "metadata": {},
     "output_type": "display_data"
    },
    {
     "data": {
      "text/plain": "            0    1\n0         Mr.  516\n1        Miss  182\n2        Mrs.  125\n3     William   64\n4        John   44\n...       ...  ...\n1524   Juozas    1\n1525   Carrie    1\n1526     Behr    1\n1527   Howell    1\n1528   Dooley    1\n\n[1529 rows x 2 columns]",
      "text/html": "<div>\n<style scoped>\n    .dataframe tbody tr th:only-of-type {\n        vertical-align: middle;\n    }\n\n    .dataframe tbody tr th {\n        vertical-align: top;\n    }\n\n    .dataframe thead th {\n        text-align: right;\n    }\n</style>\n<table border=\"1\" class=\"dataframe\">\n  <thead>\n    <tr style=\"text-align: right;\">\n      <th></th>\n      <th>0</th>\n      <th>1</th>\n    </tr>\n  </thead>\n  <tbody>\n    <tr>\n      <th>0</th>\n      <td>Mr.</td>\n      <td>516</td>\n    </tr>\n    <tr>\n      <th>1</th>\n      <td>Miss</td>\n      <td>182</td>\n    </tr>\n    <tr>\n      <th>2</th>\n      <td>Mrs.</td>\n      <td>125</td>\n    </tr>\n    <tr>\n      <th>3</th>\n      <td>William</td>\n      <td>64</td>\n    </tr>\n    <tr>\n      <th>4</th>\n      <td>John</td>\n      <td>44</td>\n    </tr>\n    <tr>\n      <th>...</th>\n      <td>...</td>\n      <td>...</td>\n    </tr>\n    <tr>\n      <th>1524</th>\n      <td>Juozas</td>\n      <td>1</td>\n    </tr>\n    <tr>\n      <th>1525</th>\n      <td>Carrie</td>\n      <td>1</td>\n    </tr>\n    <tr>\n      <th>1526</th>\n      <td>Behr</td>\n      <td>1</td>\n    </tr>\n    <tr>\n      <th>1527</th>\n      <td>Howell</td>\n      <td>1</td>\n    </tr>\n    <tr>\n      <th>1528</th>\n      <td>Dooley</td>\n      <td>1</td>\n    </tr>\n  </tbody>\n</table>\n<p>1529 rows × 2 columns</p>\n</div>"
     },
     "execution_count": 4,
     "metadata": {},
     "output_type": "execute_result"
    }
   ],
   "source": [
    "import nltk\n",
    "from collections import Counter\n",
    "import matplotlib.pyplot as plt\n",
    "\n",
    "# Токенизируем имена\n",
    "names = ' '.join(df.Name)\n",
    "tokens_list_1 = nltk.word_tokenize(names)\n",
    "tokens_list_2 = []\n",
    "\n",
    "# Почистим от знаков пунктуации\n",
    "for token in tokens_list_1:\n",
    "    if token in ['.', ',', '\"', '(', ')', \"''\", \"``\"]:\n",
    "        continue\n",
    "    else:\n",
    "        tokens_list_2.append(token)\n",
    "\n",
    "frequencies = dict(Counter(tokens_list_2))\n",
    "frequencies_sorted = dict(sorted(frequencies.items(), key=lambda item: item[1], reverse=True))\n",
    "\n",
    "# Визуализируем\n",
    "fig, ax = plt.subplots()\n",
    "fig.set_figwidth(15)\n",
    "ax.bar(list(frequencies_sorted.keys())[:40], sorted(list(frequencies.values()), reverse=True)[:40])\n",
    "plt.show()\n",
    "\n",
    "#Если взглянуть на таблицу частот, то можно заметить, что большая часть токенов появляется с частотой 4 и менее. При векторизации мы отсечем этот диапазон и ограничимся 85 токенами.\n",
    "df_2 = pd.DataFrame(dict(Counter(frequencies_sorted)).items())\n",
    "df_2"
   ],
   "metadata": {
    "collapsed": false
   }
  },
  {
   "cell_type": "markdown",
   "source": [
    "**Векторизуем! На основе модели мешка слов каждое имя мы преобразуем в вектор длиной 85.**"
   ],
   "metadata": {
    "collapsed": false
   }
  },
  {
   "cell_type": "code",
   "execution_count": 97,
   "outputs": [
    {
     "data": {
      "text/plain": "             ada  albert  alexander  alfred  alice  andersson  anna  anne  \\\nPassengerId                                                                 \n1              0       0          0       0      0          0     0     0   \n2              0       0          0       0      0          0     0     0   \n3              0       0          0       0      0          0     0     0   \n4              0       0          0       0      0          0     0     0   \n5              0       0          0       0      0          0     0     0   \n...          ...     ...        ...     ...    ...        ...   ...   ...   \n887            0       0          0       0      0          0     0     0   \n888            0       0          0       0      0          0     0     0   \n889            0       0          0       0      0          0     0     0   \n890            0       0          0       0      0          0     0     0   \n891            0       0          0       0      0          0     0     0   \n\n             annie  arthur  ...  samuel  skoog  smith  sofia  thomas  van  \\\nPassengerId                 ...                                             \n1                0       0  ...       0      0      0      0       0    0   \n2                0       0  ...       0      0      0      0       0    0   \n3                0       0  ...       0      0      0      0       0    0   \n4                0       0  ...       0      0      0      0       0    0   \n5                0       0  ...       0      0      0      0       0    0   \n...            ...     ...  ...     ...    ...    ...    ...     ...  ...   \n887              0       0  ...       0      0      0      0       0    0   \n888              0       0  ...       0      0      0      0       0    0   \n889              0       0  ...       0      0      0      0       0    0   \n890              0       0  ...       0      0      0      0       0    0   \n891              0       0  ...       0      0      0      0       0    0   \n\n             victor  walter  william  williams  \nPassengerId                                     \n1                 0       0        0         0  \n2                 0       0        0         0  \n3                 0       0        0         0  \n4                 0       0        0         0  \n5                 0       0        1         0  \n...             ...     ...      ...       ...  \n887               0       0        0         0  \n888               0       0        0         0  \n889               0       0        0         0  \n890               0       0        0         0  \n891               0       0        0         0  \n\n[891 rows x 85 columns]",
      "text/html": "<div>\n<style scoped>\n    .dataframe tbody tr th:only-of-type {\n        vertical-align: middle;\n    }\n\n    .dataframe tbody tr th {\n        vertical-align: top;\n    }\n\n    .dataframe thead th {\n        text-align: right;\n    }\n</style>\n<table border=\"1\" class=\"dataframe\">\n  <thead>\n    <tr style=\"text-align: right;\">\n      <th></th>\n      <th>ada</th>\n      <th>albert</th>\n      <th>alexander</th>\n      <th>alfred</th>\n      <th>alice</th>\n      <th>andersson</th>\n      <th>anna</th>\n      <th>anne</th>\n      <th>annie</th>\n      <th>arthur</th>\n      <th>...</th>\n      <th>samuel</th>\n      <th>skoog</th>\n      <th>smith</th>\n      <th>sofia</th>\n      <th>thomas</th>\n      <th>van</th>\n      <th>victor</th>\n      <th>walter</th>\n      <th>william</th>\n      <th>williams</th>\n    </tr>\n    <tr>\n      <th>PassengerId</th>\n      <th></th>\n      <th></th>\n      <th></th>\n      <th></th>\n      <th></th>\n      <th></th>\n      <th></th>\n      <th></th>\n      <th></th>\n      <th></th>\n      <th></th>\n      <th></th>\n      <th></th>\n      <th></th>\n      <th></th>\n      <th></th>\n      <th></th>\n      <th></th>\n      <th></th>\n      <th></th>\n      <th></th>\n    </tr>\n  </thead>\n  <tbody>\n    <tr>\n      <th>1</th>\n      <td>0</td>\n      <td>0</td>\n      <td>0</td>\n      <td>0</td>\n      <td>0</td>\n      <td>0</td>\n      <td>0</td>\n      <td>0</td>\n      <td>0</td>\n      <td>0</td>\n      <td>...</td>\n      <td>0</td>\n      <td>0</td>\n      <td>0</td>\n      <td>0</td>\n      <td>0</td>\n      <td>0</td>\n      <td>0</td>\n      <td>0</td>\n      <td>0</td>\n      <td>0</td>\n    </tr>\n    <tr>\n      <th>2</th>\n      <td>0</td>\n      <td>0</td>\n      <td>0</td>\n      <td>0</td>\n      <td>0</td>\n      <td>0</td>\n      <td>0</td>\n      <td>0</td>\n      <td>0</td>\n      <td>0</td>\n      <td>...</td>\n      <td>0</td>\n      <td>0</td>\n      <td>0</td>\n      <td>0</td>\n      <td>0</td>\n      <td>0</td>\n      <td>0</td>\n      <td>0</td>\n      <td>0</td>\n      <td>0</td>\n    </tr>\n    <tr>\n      <th>3</th>\n      <td>0</td>\n      <td>0</td>\n      <td>0</td>\n      <td>0</td>\n      <td>0</td>\n      <td>0</td>\n      <td>0</td>\n      <td>0</td>\n      <td>0</td>\n      <td>0</td>\n      <td>...</td>\n      <td>0</td>\n      <td>0</td>\n      <td>0</td>\n      <td>0</td>\n      <td>0</td>\n      <td>0</td>\n      <td>0</td>\n      <td>0</td>\n      <td>0</td>\n      <td>0</td>\n    </tr>\n    <tr>\n      <th>4</th>\n      <td>0</td>\n      <td>0</td>\n      <td>0</td>\n      <td>0</td>\n      <td>0</td>\n      <td>0</td>\n      <td>0</td>\n      <td>0</td>\n      <td>0</td>\n      <td>0</td>\n      <td>...</td>\n      <td>0</td>\n      <td>0</td>\n      <td>0</td>\n      <td>0</td>\n      <td>0</td>\n      <td>0</td>\n      <td>0</td>\n      <td>0</td>\n      <td>0</td>\n      <td>0</td>\n    </tr>\n    <tr>\n      <th>5</th>\n      <td>0</td>\n      <td>0</td>\n      <td>0</td>\n      <td>0</td>\n      <td>0</td>\n      <td>0</td>\n      <td>0</td>\n      <td>0</td>\n      <td>0</td>\n      <td>0</td>\n      <td>...</td>\n      <td>0</td>\n      <td>0</td>\n      <td>0</td>\n      <td>0</td>\n      <td>0</td>\n      <td>0</td>\n      <td>0</td>\n      <td>0</td>\n      <td>1</td>\n      <td>0</td>\n    </tr>\n    <tr>\n      <th>...</th>\n      <td>...</td>\n      <td>...</td>\n      <td>...</td>\n      <td>...</td>\n      <td>...</td>\n      <td>...</td>\n      <td>...</td>\n      <td>...</td>\n      <td>...</td>\n      <td>...</td>\n      <td>...</td>\n      <td>...</td>\n      <td>...</td>\n      <td>...</td>\n      <td>...</td>\n      <td>...</td>\n      <td>...</td>\n      <td>...</td>\n      <td>...</td>\n      <td>...</td>\n      <td>...</td>\n    </tr>\n    <tr>\n      <th>887</th>\n      <td>0</td>\n      <td>0</td>\n      <td>0</td>\n      <td>0</td>\n      <td>0</td>\n      <td>0</td>\n      <td>0</td>\n      <td>0</td>\n      <td>0</td>\n      <td>0</td>\n      <td>...</td>\n      <td>0</td>\n      <td>0</td>\n      <td>0</td>\n      <td>0</td>\n      <td>0</td>\n      <td>0</td>\n      <td>0</td>\n      <td>0</td>\n      <td>0</td>\n      <td>0</td>\n    </tr>\n    <tr>\n      <th>888</th>\n      <td>0</td>\n      <td>0</td>\n      <td>0</td>\n      <td>0</td>\n      <td>0</td>\n      <td>0</td>\n      <td>0</td>\n      <td>0</td>\n      <td>0</td>\n      <td>0</td>\n      <td>...</td>\n      <td>0</td>\n      <td>0</td>\n      <td>0</td>\n      <td>0</td>\n      <td>0</td>\n      <td>0</td>\n      <td>0</td>\n      <td>0</td>\n      <td>0</td>\n      <td>0</td>\n    </tr>\n    <tr>\n      <th>889</th>\n      <td>0</td>\n      <td>0</td>\n      <td>0</td>\n      <td>0</td>\n      <td>0</td>\n      <td>0</td>\n      <td>0</td>\n      <td>0</td>\n      <td>0</td>\n      <td>0</td>\n      <td>...</td>\n      <td>0</td>\n      <td>0</td>\n      <td>0</td>\n      <td>0</td>\n      <td>0</td>\n      <td>0</td>\n      <td>0</td>\n      <td>0</td>\n      <td>0</td>\n      <td>0</td>\n    </tr>\n    <tr>\n      <th>890</th>\n      <td>0</td>\n      <td>0</td>\n      <td>0</td>\n      <td>0</td>\n      <td>0</td>\n      <td>0</td>\n      <td>0</td>\n      <td>0</td>\n      <td>0</td>\n      <td>0</td>\n      <td>...</td>\n      <td>0</td>\n      <td>0</td>\n      <td>0</td>\n      <td>0</td>\n      <td>0</td>\n      <td>0</td>\n      <td>0</td>\n      <td>0</td>\n      <td>0</td>\n      <td>0</td>\n    </tr>\n    <tr>\n      <th>891</th>\n      <td>0</td>\n      <td>0</td>\n      <td>0</td>\n      <td>0</td>\n      <td>0</td>\n      <td>0</td>\n      <td>0</td>\n      <td>0</td>\n      <td>0</td>\n      <td>0</td>\n      <td>...</td>\n      <td>0</td>\n      <td>0</td>\n      <td>0</td>\n      <td>0</td>\n      <td>0</td>\n      <td>0</td>\n      <td>0</td>\n      <td>0</td>\n      <td>0</td>\n      <td>0</td>\n    </tr>\n  </tbody>\n</table>\n<p>891 rows × 85 columns</p>\n</div>"
     },
     "execution_count": 97,
     "metadata": {},
     "output_type": "execute_result"
    }
   ],
   "source": [
    "from sklearn.feature_extraction.text import CountVectorizer\n",
    "\n",
    "passenger_names = []\n",
    "for name in df.Name:\n",
    "    name_ = nltk.word_tokenize(name)\n",
    "    name__ = []\n",
    "    for token in name_:\n",
    "        if token in ['.', ',', '\"', '(', ')', \"''\", \"``\"]:\n",
    "            continue\n",
    "        else:\n",
    "            name__.append(token)\n",
    "    passenger_names.append(' '.join(name__))\n",
    "\n",
    "counter = CountVectorizer(max_features=85)\n",
    "\n",
    "vector_names = pd.DataFrame(counter.fit_transform(passenger_names).toarray(),\n",
    "                            index=df.PassengerId,\n",
    "                            columns = sorted(counter.vocabulary_.keys())\n",
    "                            )\n",
    "vector_names"
   ],
   "metadata": {
    "collapsed": false
   }
  },
  {
   "cell_type": "markdown",
   "source": [
    "### Билеты и их символьная часть\n",
    "\n",
    "---\n",
    "\n",
    "Попробуем посмотреть на распределение символьных частей билетов и решим, есть ли смысл её векторизовать. СОсновной номер выделим отдельным признаком (это будет реализовано уже только в `data_functions.py`)."
   ],
   "metadata": {
    "collapsed": false
   }
  },
  {
   "cell_type": "code",
   "execution_count": 23,
   "outputs": [
    {
     "data": {
      "text/plain": "             0   1\n0           PC  60\n1          C.A  27\n2          A/5  17\n3           CA  14\n4       STON/O  12\n5         W./C   9\n6    SOTON/O.Q   8\n7     SOTON/OQ   7\n8      STON/O2   6\n9          A/4   6\n10       S.O.C   5\n11           C   5\n12    SC/PARIS   5\n13       F.C.C   5\n14    SC/Paris   4\n15        LINE   4\n16          PP   3\n17       SC/AH   3\n18    S.O./P.P   3\n19        A./5   2\n20         A.5   2\n21        P/PP   2\n22        WE/P   2\n23    SOTON/O2   2\n24  S.C./PARIS   2\n25    S.C./A.4   1\n26         S.P   1\n27        SO/C   1\n28       W.E.P   1\n29          A4   1\n30       S.O.P   1\n31          Fa   1\n32         W/C   1\n33       SW/PP   1\n34       SCO/W   1\n35          SC   1\n36         A/S   1\n37       Basle   1\n38     S.W./PP   1\n39         F.C   1\n40  C.A./SOTON   1",
      "text/html": "<div>\n<style scoped>\n    .dataframe tbody tr th:only-of-type {\n        vertical-align: middle;\n    }\n\n    .dataframe tbody tr th {\n        vertical-align: top;\n    }\n\n    .dataframe thead th {\n        text-align: right;\n    }\n</style>\n<table border=\"1\" class=\"dataframe\">\n  <thead>\n    <tr style=\"text-align: right;\">\n      <th></th>\n      <th>0</th>\n      <th>1</th>\n    </tr>\n  </thead>\n  <tbody>\n    <tr>\n      <th>0</th>\n      <td>PC</td>\n      <td>60</td>\n    </tr>\n    <tr>\n      <th>1</th>\n      <td>C.A</td>\n      <td>27</td>\n    </tr>\n    <tr>\n      <th>2</th>\n      <td>A/5</td>\n      <td>17</td>\n    </tr>\n    <tr>\n      <th>3</th>\n      <td>CA</td>\n      <td>14</td>\n    </tr>\n    <tr>\n      <th>4</th>\n      <td>STON/O</td>\n      <td>12</td>\n    </tr>\n    <tr>\n      <th>5</th>\n      <td>W./C</td>\n      <td>9</td>\n    </tr>\n    <tr>\n      <th>6</th>\n      <td>SOTON/O.Q</td>\n      <td>8</td>\n    </tr>\n    <tr>\n      <th>7</th>\n      <td>SOTON/OQ</td>\n      <td>7</td>\n    </tr>\n    <tr>\n      <th>8</th>\n      <td>STON/O2</td>\n      <td>6</td>\n    </tr>\n    <tr>\n      <th>9</th>\n      <td>A/4</td>\n      <td>6</td>\n    </tr>\n    <tr>\n      <th>10</th>\n      <td>S.O.C</td>\n      <td>5</td>\n    </tr>\n    <tr>\n      <th>11</th>\n      <td>C</td>\n      <td>5</td>\n    </tr>\n    <tr>\n      <th>12</th>\n      <td>SC/PARIS</td>\n      <td>5</td>\n    </tr>\n    <tr>\n      <th>13</th>\n      <td>F.C.C</td>\n      <td>5</td>\n    </tr>\n    <tr>\n      <th>14</th>\n      <td>SC/Paris</td>\n      <td>4</td>\n    </tr>\n    <tr>\n      <th>15</th>\n      <td>LINE</td>\n      <td>4</td>\n    </tr>\n    <tr>\n      <th>16</th>\n      <td>PP</td>\n      <td>3</td>\n    </tr>\n    <tr>\n      <th>17</th>\n      <td>SC/AH</td>\n      <td>3</td>\n    </tr>\n    <tr>\n      <th>18</th>\n      <td>S.O./P.P</td>\n      <td>3</td>\n    </tr>\n    <tr>\n      <th>19</th>\n      <td>A./5</td>\n      <td>2</td>\n    </tr>\n    <tr>\n      <th>20</th>\n      <td>A.5</td>\n      <td>2</td>\n    </tr>\n    <tr>\n      <th>21</th>\n      <td>P/PP</td>\n      <td>2</td>\n    </tr>\n    <tr>\n      <th>22</th>\n      <td>WE/P</td>\n      <td>2</td>\n    </tr>\n    <tr>\n      <th>23</th>\n      <td>SOTON/O2</td>\n      <td>2</td>\n    </tr>\n    <tr>\n      <th>24</th>\n      <td>S.C./PARIS</td>\n      <td>2</td>\n    </tr>\n    <tr>\n      <th>25</th>\n      <td>S.C./A.4</td>\n      <td>1</td>\n    </tr>\n    <tr>\n      <th>26</th>\n      <td>S.P</td>\n      <td>1</td>\n    </tr>\n    <tr>\n      <th>27</th>\n      <td>SO/C</td>\n      <td>1</td>\n    </tr>\n    <tr>\n      <th>28</th>\n      <td>W.E.P</td>\n      <td>1</td>\n    </tr>\n    <tr>\n      <th>29</th>\n      <td>A4</td>\n      <td>1</td>\n    </tr>\n    <tr>\n      <th>30</th>\n      <td>S.O.P</td>\n      <td>1</td>\n    </tr>\n    <tr>\n      <th>31</th>\n      <td>Fa</td>\n      <td>1</td>\n    </tr>\n    <tr>\n      <th>32</th>\n      <td>W/C</td>\n      <td>1</td>\n    </tr>\n    <tr>\n      <th>33</th>\n      <td>SW/PP</td>\n      <td>1</td>\n    </tr>\n    <tr>\n      <th>34</th>\n      <td>SCO/W</td>\n      <td>1</td>\n    </tr>\n    <tr>\n      <th>35</th>\n      <td>SC</td>\n      <td>1</td>\n    </tr>\n    <tr>\n      <th>36</th>\n      <td>A/S</td>\n      <td>1</td>\n    </tr>\n    <tr>\n      <th>37</th>\n      <td>Basle</td>\n      <td>1</td>\n    </tr>\n    <tr>\n      <th>38</th>\n      <td>S.W./PP</td>\n      <td>1</td>\n    </tr>\n    <tr>\n      <th>39</th>\n      <td>F.C</td>\n      <td>1</td>\n    </tr>\n    <tr>\n      <th>40</th>\n      <td>C.A./SOTON</td>\n      <td>1</td>\n    </tr>\n  </tbody>\n</table>\n</div>"
     },
     "execution_count": 23,
     "metadata": {},
     "output_type": "execute_result"
    }
   ],
   "source": [
    "stringed_tickets = []\n",
    "\n",
    "for ticket in df.Ticket:\n",
    "    try:\n",
    "        int(ticket)\n",
    "    except:\n",
    "        stringed_tickets.append(ticket)\n",
    "\n",
    "len(stringed_tickets) #230 => точно имеет смысл с ними поработать\n",
    "\n",
    "tokens_list_3 = nltk.word_tokenize(' '.join(stringed_tickets))\n",
    "tokens_list_4 = []\n",
    "\n",
    "#Почистим от номеров и знаков\n",
    "for token in tokens_list_3:\n",
    "    try:\n",
    "        int(token)\n",
    "    except:\n",
    "        if token in ['.', ',', '\"', '(', ')']:\n",
    "            continue\n",
    "        else:\n",
    "            tokens_list_4.append(token)\n",
    "\n",
    "frequencies_2 = dict(Counter(tokens_list_4))\n",
    "frequencies_2_sorted = dict(sorted(frequencies_2.items(), key=lambda item: item[1], reverse=True))\n",
    "pd.DataFrame(frequencies_2_sorted.items())"
   ],
   "metadata": {
    "collapsed": false
   }
  },
  {
   "cell_type": "markdown",
   "source": [
    "Смысл векторизовать есть! Возьмем также токены, число которых 5 и более, таким образом билеты мы преобразуем в векторы длиной 14, и отдельным признаком будет номер билета. Векторизацию реализуем уже в `data_functions.py`"
   ],
   "metadata": {
    "collapsed": false
   }
  },
  {
   "cell_type": "markdown",
   "source": [
    "### Номера кают\n",
    "\n",
    "---\n",
    "\n",
    "Если немного изучить историю краха Титаника, становится очевидно, что номер каюты сыграл большую роль для возможности выжить. Пускай у нас есть данные лишь для небольшого числа пассажиров, но мы воспользуемся ими с толком. Векторизуем данные о каютах, используя все токены."
   ],
   "metadata": {
    "collapsed": false
   }
  },
  {
   "cell_type": "code",
   "execution_count": 103,
   "outputs": [
    {
     "data": {
      "text/plain": "        0  1\n0      G6  4\n1     C23  4\n2     C25  4\n3     C27  4\n4       F  4\n..    ... ..\n156   E17  1\n157   A24  1\n158   C50  1\n159   B42  1\n160  C148  1\n\n[161 rows x 2 columns]",
      "text/html": "<div>\n<style scoped>\n    .dataframe tbody tr th:only-of-type {\n        vertical-align: middle;\n    }\n\n    .dataframe tbody tr th {\n        vertical-align: top;\n    }\n\n    .dataframe thead th {\n        text-align: right;\n    }\n</style>\n<table border=\"1\" class=\"dataframe\">\n  <thead>\n    <tr style=\"text-align: right;\">\n      <th></th>\n      <th>0</th>\n      <th>1</th>\n    </tr>\n  </thead>\n  <tbody>\n    <tr>\n      <th>0</th>\n      <td>G6</td>\n      <td>4</td>\n    </tr>\n    <tr>\n      <th>1</th>\n      <td>C23</td>\n      <td>4</td>\n    </tr>\n    <tr>\n      <th>2</th>\n      <td>C25</td>\n      <td>4</td>\n    </tr>\n    <tr>\n      <th>3</th>\n      <td>C27</td>\n      <td>4</td>\n    </tr>\n    <tr>\n      <th>4</th>\n      <td>F</td>\n      <td>4</td>\n    </tr>\n    <tr>\n      <th>...</th>\n      <td>...</td>\n      <td>...</td>\n    </tr>\n    <tr>\n      <th>156</th>\n      <td>E17</td>\n      <td>1</td>\n    </tr>\n    <tr>\n      <th>157</th>\n      <td>A24</td>\n      <td>1</td>\n    </tr>\n    <tr>\n      <th>158</th>\n      <td>C50</td>\n      <td>1</td>\n    </tr>\n    <tr>\n      <th>159</th>\n      <td>B42</td>\n      <td>1</td>\n    </tr>\n    <tr>\n      <th>160</th>\n      <td>C148</td>\n      <td>1</td>\n    </tr>\n  </tbody>\n</table>\n<p>161 rows × 2 columns</p>\n</div>"
     },
     "execution_count": 103,
     "metadata": {},
     "output_type": "execute_result"
    }
   ],
   "source": [
    "cabins = []\n",
    "cabins_splitted = []\n",
    "\n",
    "for cabin in df.Cabin:\n",
    "    if isinstance(cabin, str):\n",
    "        cabins.append(cabin)\n",
    "\n",
    "for cabin in cabins:\n",
    "    for c in cabin.split(' '):\n",
    "        cabins_splitted.append(c)\n",
    "\n",
    "cabins_freq = dict(Counter(cabins_splitted))\n",
    "cabins_freq_sorted = dict(sorted(cabins_freq.items(), key=lambda item: item[1], reverse=True))\n",
    "pd.DataFrame(cabins_freq_sorted.items())"
   ],
   "metadata": {
    "collapsed": false
   }
  },
  {
   "cell_type": "code",
   "execution_count": 34,
   "outputs": [
    {
     "data": {
      "text/plain": "             a10  a14  a16  a19  a20  a23  a24  a26  a31  a32  ...  e69  e77  \\\nPassengerId                                                    ...             \n1              0    0    0    0    0    0    0    0    0    0  ...    0    0   \n2              0    0    0    0    0    0    0    0    0    0  ...    0    0   \n3              0    0    0    0    0    0    0    0    0    0  ...    0    0   \n4              0    0    0    0    0    0    0    0    0    0  ...    0    0   \n5              0    0    0    0    0    0    0    0    0    0  ...    0    0   \n...          ...  ...  ...  ...  ...  ...  ...  ...  ...  ...  ...  ...  ...   \n887            0    0    0    0    0    0    0    0    0    0  ...    0    0   \n888            0    0    0    0    0    0    0    0    0    0  ...    0    0   \n889            0    0    0    0    0    0    0    0    0    0  ...    0    0   \n890            0    0    0    0    0    0    0    0    0    0  ...    0    0   \n891            0    0    0    0    0    0    0    0    0    0  ...    0    0   \n\n             e8  f2  f33  f38  f4  g6  g63  g73  \nPassengerId                                      \n1             0   0    0    0   0   0    0    0  \n2             0   0    0    0   0   0    0    0  \n3             0   0    0    0   0   0    0    0  \n4             0   0    0    0   0   0    0    0  \n5             0   0    0    0   0   0    0    0  \n...          ..  ..  ...  ...  ..  ..  ...  ...  \n887           0   0    0    0   0   0    0    0  \n888           0   0    0    0   0   0    0    0  \n889           0   0    0    0   0   0    0    0  \n890           0   0    0    0   0   0    0    0  \n891           0   0    0    0   0   0    0    0  \n\n[891 rows x 158 columns]",
      "text/html": "<div>\n<style scoped>\n    .dataframe tbody tr th:only-of-type {\n        vertical-align: middle;\n    }\n\n    .dataframe tbody tr th {\n        vertical-align: top;\n    }\n\n    .dataframe thead th {\n        text-align: right;\n    }\n</style>\n<table border=\"1\" class=\"dataframe\">\n  <thead>\n    <tr style=\"text-align: right;\">\n      <th></th>\n      <th>a10</th>\n      <th>a14</th>\n      <th>a16</th>\n      <th>a19</th>\n      <th>a20</th>\n      <th>a23</th>\n      <th>a24</th>\n      <th>a26</th>\n      <th>a31</th>\n      <th>a32</th>\n      <th>...</th>\n      <th>e69</th>\n      <th>e77</th>\n      <th>e8</th>\n      <th>f2</th>\n      <th>f33</th>\n      <th>f38</th>\n      <th>f4</th>\n      <th>g6</th>\n      <th>g63</th>\n      <th>g73</th>\n    </tr>\n    <tr>\n      <th>PassengerId</th>\n      <th></th>\n      <th></th>\n      <th></th>\n      <th></th>\n      <th></th>\n      <th></th>\n      <th></th>\n      <th></th>\n      <th></th>\n      <th></th>\n      <th></th>\n      <th></th>\n      <th></th>\n      <th></th>\n      <th></th>\n      <th></th>\n      <th></th>\n      <th></th>\n      <th></th>\n      <th></th>\n      <th></th>\n    </tr>\n  </thead>\n  <tbody>\n    <tr>\n      <th>1</th>\n      <td>0</td>\n      <td>0</td>\n      <td>0</td>\n      <td>0</td>\n      <td>0</td>\n      <td>0</td>\n      <td>0</td>\n      <td>0</td>\n      <td>0</td>\n      <td>0</td>\n      <td>...</td>\n      <td>0</td>\n      <td>0</td>\n      <td>0</td>\n      <td>0</td>\n      <td>0</td>\n      <td>0</td>\n      <td>0</td>\n      <td>0</td>\n      <td>0</td>\n      <td>0</td>\n    </tr>\n    <tr>\n      <th>2</th>\n      <td>0</td>\n      <td>0</td>\n      <td>0</td>\n      <td>0</td>\n      <td>0</td>\n      <td>0</td>\n      <td>0</td>\n      <td>0</td>\n      <td>0</td>\n      <td>0</td>\n      <td>...</td>\n      <td>0</td>\n      <td>0</td>\n      <td>0</td>\n      <td>0</td>\n      <td>0</td>\n      <td>0</td>\n      <td>0</td>\n      <td>0</td>\n      <td>0</td>\n      <td>0</td>\n    </tr>\n    <tr>\n      <th>3</th>\n      <td>0</td>\n      <td>0</td>\n      <td>0</td>\n      <td>0</td>\n      <td>0</td>\n      <td>0</td>\n      <td>0</td>\n      <td>0</td>\n      <td>0</td>\n      <td>0</td>\n      <td>...</td>\n      <td>0</td>\n      <td>0</td>\n      <td>0</td>\n      <td>0</td>\n      <td>0</td>\n      <td>0</td>\n      <td>0</td>\n      <td>0</td>\n      <td>0</td>\n      <td>0</td>\n    </tr>\n    <tr>\n      <th>4</th>\n      <td>0</td>\n      <td>0</td>\n      <td>0</td>\n      <td>0</td>\n      <td>0</td>\n      <td>0</td>\n      <td>0</td>\n      <td>0</td>\n      <td>0</td>\n      <td>0</td>\n      <td>...</td>\n      <td>0</td>\n      <td>0</td>\n      <td>0</td>\n      <td>0</td>\n      <td>0</td>\n      <td>0</td>\n      <td>0</td>\n      <td>0</td>\n      <td>0</td>\n      <td>0</td>\n    </tr>\n    <tr>\n      <th>5</th>\n      <td>0</td>\n      <td>0</td>\n      <td>0</td>\n      <td>0</td>\n      <td>0</td>\n      <td>0</td>\n      <td>0</td>\n      <td>0</td>\n      <td>0</td>\n      <td>0</td>\n      <td>...</td>\n      <td>0</td>\n      <td>0</td>\n      <td>0</td>\n      <td>0</td>\n      <td>0</td>\n      <td>0</td>\n      <td>0</td>\n      <td>0</td>\n      <td>0</td>\n      <td>0</td>\n    </tr>\n    <tr>\n      <th>...</th>\n      <td>...</td>\n      <td>...</td>\n      <td>...</td>\n      <td>...</td>\n      <td>...</td>\n      <td>...</td>\n      <td>...</td>\n      <td>...</td>\n      <td>...</td>\n      <td>...</td>\n      <td>...</td>\n      <td>...</td>\n      <td>...</td>\n      <td>...</td>\n      <td>...</td>\n      <td>...</td>\n      <td>...</td>\n      <td>...</td>\n      <td>...</td>\n      <td>...</td>\n      <td>...</td>\n    </tr>\n    <tr>\n      <th>887</th>\n      <td>0</td>\n      <td>0</td>\n      <td>0</td>\n      <td>0</td>\n      <td>0</td>\n      <td>0</td>\n      <td>0</td>\n      <td>0</td>\n      <td>0</td>\n      <td>0</td>\n      <td>...</td>\n      <td>0</td>\n      <td>0</td>\n      <td>0</td>\n      <td>0</td>\n      <td>0</td>\n      <td>0</td>\n      <td>0</td>\n      <td>0</td>\n      <td>0</td>\n      <td>0</td>\n    </tr>\n    <tr>\n      <th>888</th>\n      <td>0</td>\n      <td>0</td>\n      <td>0</td>\n      <td>0</td>\n      <td>0</td>\n      <td>0</td>\n      <td>0</td>\n      <td>0</td>\n      <td>0</td>\n      <td>0</td>\n      <td>...</td>\n      <td>0</td>\n      <td>0</td>\n      <td>0</td>\n      <td>0</td>\n      <td>0</td>\n      <td>0</td>\n      <td>0</td>\n      <td>0</td>\n      <td>0</td>\n      <td>0</td>\n    </tr>\n    <tr>\n      <th>889</th>\n      <td>0</td>\n      <td>0</td>\n      <td>0</td>\n      <td>0</td>\n      <td>0</td>\n      <td>0</td>\n      <td>0</td>\n      <td>0</td>\n      <td>0</td>\n      <td>0</td>\n      <td>...</td>\n      <td>0</td>\n      <td>0</td>\n      <td>0</td>\n      <td>0</td>\n      <td>0</td>\n      <td>0</td>\n      <td>0</td>\n      <td>0</td>\n      <td>0</td>\n      <td>0</td>\n    </tr>\n    <tr>\n      <th>890</th>\n      <td>0</td>\n      <td>0</td>\n      <td>0</td>\n      <td>0</td>\n      <td>0</td>\n      <td>0</td>\n      <td>0</td>\n      <td>0</td>\n      <td>0</td>\n      <td>0</td>\n      <td>...</td>\n      <td>0</td>\n      <td>0</td>\n      <td>0</td>\n      <td>0</td>\n      <td>0</td>\n      <td>0</td>\n      <td>0</td>\n      <td>0</td>\n      <td>0</td>\n      <td>0</td>\n    </tr>\n    <tr>\n      <th>891</th>\n      <td>0</td>\n      <td>0</td>\n      <td>0</td>\n      <td>0</td>\n      <td>0</td>\n      <td>0</td>\n      <td>0</td>\n      <td>0</td>\n      <td>0</td>\n      <td>0</td>\n      <td>...</td>\n      <td>0</td>\n      <td>0</td>\n      <td>0</td>\n      <td>0</td>\n      <td>0</td>\n      <td>0</td>\n      <td>0</td>\n      <td>0</td>\n      <td>0</td>\n      <td>0</td>\n    </tr>\n  </tbody>\n</table>\n<p>891 rows × 158 columns</p>\n</div>"
     },
     "execution_count": 34,
     "metadata": {},
     "output_type": "execute_result"
    }
   ],
   "source": [
    "# Очистим от NaNов\n",
    "clear_cabins = []\n",
    "for cabin in df.Cabin:\n",
    "    if isinstance(cabin, str):\n",
    "        clear_cabins.append(cabin)\n",
    "    else:\n",
    "        clear_cabins.append('')\n",
    "\n",
    "\n",
    "counter_2 = CountVectorizer(max_features=161)\n",
    "\n",
    "cabin_vectors = pd.DataFrame(counter_2.fit_transform(clear_cabins).toarray(),\n",
    "                            index=df.PassengerId,\n",
    "                            columns = sorted(counter_2.vocabulary_.keys())\n",
    "                            )\n",
    "cabin_vectors"
   ],
   "metadata": {
    "collapsed": false
   }
  },
  {
   "cell_type": "markdown",
   "source": [
    "### Пропущенные возраста\n",
    "\n",
    "---\n",
    "\n",
    "В случае с возрастом, попробуем опираться на остальные данные для пассажира, чтобы восстановить его возраст. Характерными для возраста будут `sibsp` и `parch`, поэтому для отсутствующих возрастов возьмем средний возраст пассажиров с такими же значениями sibsp и parch."
   ],
   "metadata": {
    "collapsed": false
   }
  },
  {
   "cell_type": "code",
   "execution_count": 92,
   "outputs": [
    {
     "data": {
      "text/plain": "       0     1\n0      6  24.2\n1     18  24.2\n2     20  24.2\n3     27  24.2\n4     29  24.2\n..   ...   ...\n172  860  24.2\n173  864  13.5\n174  869  24.2\n175  879  24.2\n176  889  18.3\n\n[177 rows x 2 columns]",
      "text/html": "<div>\n<style scoped>\n    .dataframe tbody tr th:only-of-type {\n        vertical-align: middle;\n    }\n\n    .dataframe tbody tr th {\n        vertical-align: top;\n    }\n\n    .dataframe thead th {\n        text-align: right;\n    }\n</style>\n<table border=\"1\" class=\"dataframe\">\n  <thead>\n    <tr style=\"text-align: right;\">\n      <th></th>\n      <th>0</th>\n      <th>1</th>\n    </tr>\n  </thead>\n  <tbody>\n    <tr>\n      <th>0</th>\n      <td>6</td>\n      <td>24.2</td>\n    </tr>\n    <tr>\n      <th>1</th>\n      <td>18</td>\n      <td>24.2</td>\n    </tr>\n    <tr>\n      <th>2</th>\n      <td>20</td>\n      <td>24.2</td>\n    </tr>\n    <tr>\n      <th>3</th>\n      <td>27</td>\n      <td>24.2</td>\n    </tr>\n    <tr>\n      <th>4</th>\n      <td>29</td>\n      <td>24.2</td>\n    </tr>\n    <tr>\n      <th>...</th>\n      <td>...</td>\n      <td>...</td>\n    </tr>\n    <tr>\n      <th>172</th>\n      <td>860</td>\n      <td>24.2</td>\n    </tr>\n    <tr>\n      <th>173</th>\n      <td>864</td>\n      <td>13.5</td>\n    </tr>\n    <tr>\n      <th>174</th>\n      <td>869</td>\n      <td>24.2</td>\n    </tr>\n    <tr>\n      <th>175</th>\n      <td>879</td>\n      <td>24.2</td>\n    </tr>\n    <tr>\n      <th>176</th>\n      <td>889</td>\n      <td>18.3</td>\n    </tr>\n  </tbody>\n</table>\n<p>177 rows × 2 columns</p>\n</div>"
     },
     "execution_count": 92,
     "metadata": {},
     "output_type": "execute_result"
    }
   ],
   "source": [
    "ids_with_age = []\n",
    "ids_no_age = []\n",
    "for i, id in enumerate(df.PassengerId):\n",
    "    if df.Age[i] > 0:\n",
    "        ids_with_age.append(id)\n",
    "    else:\n",
    "        ids_no_age.append(id)\n",
    "\n",
    "len(ids_no_age) #177\n",
    "\n",
    "def find_mean_age(sibsp, parch):\n",
    "    accum_age = 0\n",
    "    count = 0\n",
    "    for i, pasid in enumerate(df.PassengerId):\n",
    "        if df.SibSp[i] == sibsp and df.Parch[i] == parch:\n",
    "            if df.Age[i] > 0:\n",
    "                accum_age += df.Age[i]\n",
    "            count += 1\n",
    "\n",
    "    if accum_age == 0:\n",
    "        for i, pasid in enumerate(df.PassengerId):\n",
    "            if df.SibSp[i] == sibsp or df.Parch[i] == parch:\n",
    "                if df.Age[i] > 0:\n",
    "                    accum_age += df.Age[i]\n",
    "                count += 1\n",
    "\n",
    "    return round(accum_age/count, 1)\n",
    "\n",
    "restored_ages = {}\n",
    "\n",
    "for id in ids_no_age:\n",
    "    index = int(id - 1)\n",
    "    restored_ages[id] = find_mean_age(df.SibSp[index], df.Parch[index])\n",
    "\n",
    "pd.DataFrame(restored_ages.items())"
   ],
   "metadata": {
    "collapsed": false
   }
  },
  {
   "cell_type": "markdown",
   "source": [
    "# Итог\n",
    "\n",
    "---\n",
    "\n",
    "Нам удалось векторизовать данные, требующие этого, а именно: имя пассажира, номер билета, номер каюты. Векторизации также требует порт отправки, но с ним все просто, все данные присутствуют, а портов всего 3.\n",
    "Нам удалось восстановить недостающие данные возраста пассажира, основываясь на данных о его попутчиках.\n",
    "\n",
    "Следующим этапом будет разработка `data_functions.py`, где все рассмотренные способы векторизации будут применены, созданы классы и функции для подготвки данных к использованию в алгоритмах ML. Из алгоритмов я буду концентрироваться на нейронных сетях на базе **pyTorch**, однако также опробую несколько алгоритмов ML из пакета **SCIKIT-Learn**."
   ],
   "metadata": {
    "collapsed": false
   }
  },
  {
   "cell_type": "code",
   "execution_count": 9,
   "outputs": [
    {
     "data": {
      "text/plain": "     PassengerId  Pclass                                          Name  \\\n0            892       3                              Kelly, Mr. James   \n1            893       3              Wilkes, Mrs. James (Ellen Needs)   \n2            894       2                     Myles, Mr. Thomas Francis   \n3            895       3                              Wirz, Mr. Albert   \n4            896       3  Hirvonen, Mrs. Alexander (Helga E Lindqvist)   \n..           ...     ...                                           ...   \n413         1305       3                            Spector, Mr. Woolf   \n414         1306       1                  Oliva y Ocana, Dona. Fermina   \n415         1307       3                  Saether, Mr. Simon Sivertsen   \n416         1308       3                           Ware, Mr. Frederick   \n417         1309       3                      Peter, Master. Michael J   \n\n        Sex   Age  SibSp  Parch              Ticket      Fare Cabin Embarked  \n0      male  34.5      0      0              330911    7.8292   NaN        Q  \n1    female  47.0      1      0              363272    7.0000   NaN        S  \n2      male  62.0      0      0              240276    9.6875   NaN        Q  \n3      male  27.0      0      0              315154    8.6625   NaN        S  \n4    female  22.0      1      1             3101298   12.2875   NaN        S  \n..      ...   ...    ...    ...                 ...       ...   ...      ...  \n413    male   NaN      0      0           A.5. 3236    8.0500   NaN        S  \n414  female  39.0      0      0            PC 17758  108.9000  C105        C  \n415    male  38.5      0      0  SOTON/O.Q. 3101262    7.2500   NaN        S  \n416    male   NaN      0      0              359309    8.0500   NaN        S  \n417    male   NaN      1      1                2668   22.3583   NaN        C  \n\n[418 rows x 11 columns]",
      "text/html": "<div>\n<style scoped>\n    .dataframe tbody tr th:only-of-type {\n        vertical-align: middle;\n    }\n\n    .dataframe tbody tr th {\n        vertical-align: top;\n    }\n\n    .dataframe thead th {\n        text-align: right;\n    }\n</style>\n<table border=\"1\" class=\"dataframe\">\n  <thead>\n    <tr style=\"text-align: right;\">\n      <th></th>\n      <th>PassengerId</th>\n      <th>Pclass</th>\n      <th>Name</th>\n      <th>Sex</th>\n      <th>Age</th>\n      <th>SibSp</th>\n      <th>Parch</th>\n      <th>Ticket</th>\n      <th>Fare</th>\n      <th>Cabin</th>\n      <th>Embarked</th>\n    </tr>\n  </thead>\n  <tbody>\n    <tr>\n      <th>0</th>\n      <td>892</td>\n      <td>3</td>\n      <td>Kelly, Mr. James</td>\n      <td>male</td>\n      <td>34.5</td>\n      <td>0</td>\n      <td>0</td>\n      <td>330911</td>\n      <td>7.8292</td>\n      <td>NaN</td>\n      <td>Q</td>\n    </tr>\n    <tr>\n      <th>1</th>\n      <td>893</td>\n      <td>3</td>\n      <td>Wilkes, Mrs. James (Ellen Needs)</td>\n      <td>female</td>\n      <td>47.0</td>\n      <td>1</td>\n      <td>0</td>\n      <td>363272</td>\n      <td>7.0000</td>\n      <td>NaN</td>\n      <td>S</td>\n    </tr>\n    <tr>\n      <th>2</th>\n      <td>894</td>\n      <td>2</td>\n      <td>Myles, Mr. Thomas Francis</td>\n      <td>male</td>\n      <td>62.0</td>\n      <td>0</td>\n      <td>0</td>\n      <td>240276</td>\n      <td>9.6875</td>\n      <td>NaN</td>\n      <td>Q</td>\n    </tr>\n    <tr>\n      <th>3</th>\n      <td>895</td>\n      <td>3</td>\n      <td>Wirz, Mr. Albert</td>\n      <td>male</td>\n      <td>27.0</td>\n      <td>0</td>\n      <td>0</td>\n      <td>315154</td>\n      <td>8.6625</td>\n      <td>NaN</td>\n      <td>S</td>\n    </tr>\n    <tr>\n      <th>4</th>\n      <td>896</td>\n      <td>3</td>\n      <td>Hirvonen, Mrs. Alexander (Helga E Lindqvist)</td>\n      <td>female</td>\n      <td>22.0</td>\n      <td>1</td>\n      <td>1</td>\n      <td>3101298</td>\n      <td>12.2875</td>\n      <td>NaN</td>\n      <td>S</td>\n    </tr>\n    <tr>\n      <th>...</th>\n      <td>...</td>\n      <td>...</td>\n      <td>...</td>\n      <td>...</td>\n      <td>...</td>\n      <td>...</td>\n      <td>...</td>\n      <td>...</td>\n      <td>...</td>\n      <td>...</td>\n      <td>...</td>\n    </tr>\n    <tr>\n      <th>413</th>\n      <td>1305</td>\n      <td>3</td>\n      <td>Spector, Mr. Woolf</td>\n      <td>male</td>\n      <td>NaN</td>\n      <td>0</td>\n      <td>0</td>\n      <td>A.5. 3236</td>\n      <td>8.0500</td>\n      <td>NaN</td>\n      <td>S</td>\n    </tr>\n    <tr>\n      <th>414</th>\n      <td>1306</td>\n      <td>1</td>\n      <td>Oliva y Ocana, Dona. Fermina</td>\n      <td>female</td>\n      <td>39.0</td>\n      <td>0</td>\n      <td>0</td>\n      <td>PC 17758</td>\n      <td>108.9000</td>\n      <td>C105</td>\n      <td>C</td>\n    </tr>\n    <tr>\n      <th>415</th>\n      <td>1307</td>\n      <td>3</td>\n      <td>Saether, Mr. Simon Sivertsen</td>\n      <td>male</td>\n      <td>38.5</td>\n      <td>0</td>\n      <td>0</td>\n      <td>SOTON/O.Q. 3101262</td>\n      <td>7.2500</td>\n      <td>NaN</td>\n      <td>S</td>\n    </tr>\n    <tr>\n      <th>416</th>\n      <td>1308</td>\n      <td>3</td>\n      <td>Ware, Mr. Frederick</td>\n      <td>male</td>\n      <td>NaN</td>\n      <td>0</td>\n      <td>0</td>\n      <td>359309</td>\n      <td>8.0500</td>\n      <td>NaN</td>\n      <td>S</td>\n    </tr>\n    <tr>\n      <th>417</th>\n      <td>1309</td>\n      <td>3</td>\n      <td>Peter, Master. Michael J</td>\n      <td>male</td>\n      <td>NaN</td>\n      <td>1</td>\n      <td>1</td>\n      <td>2668</td>\n      <td>22.3583</td>\n      <td>NaN</td>\n      <td>C</td>\n    </tr>\n  </tbody>\n</table>\n<p>418 rows × 11 columns</p>\n</div>"
     },
     "execution_count": 9,
     "metadata": {},
     "output_type": "execute_result"
    }
   ],
   "source": [
    "a = pd.read_csv('test.csv')\n",
    "a"
   ],
   "metadata": {
    "collapsed": false
   }
  },
  {
   "cell_type": "code",
   "execution_count": 10,
   "outputs": [
    {
     "data": {
      "text/plain": "     PassengerId  Pclass                                          Name  \\\n0            892       3                              Kelly, Mr. James   \n1            893       3              Wilkes, Mrs. James (Ellen Needs)   \n2            894       2                     Myles, Mr. Thomas Francis   \n3            895       3                              Wirz, Mr. Albert   \n4            896       3  Hirvonen, Mrs. Alexander (Helga E Lindqvist)   \n..           ...     ...                                           ...   \n413         1305       3                            Spector, Mr. Woolf   \n414         1306       1                  Oliva y Ocana, Dona. Fermina   \n415         1307       3                  Saether, Mr. Simon Sivertsen   \n416         1308       3                           Ware, Mr. Frederick   \n417         1309       3                      Peter, Master. Michael J   \n\n        Sex   Age  SibSp  Parch              Ticket      Fare Cabin Embarked  \n0      male  34.5      0      0              330911    7.8292   NaN        Q  \n1    female  47.0      1      0              363272    7.0000   NaN        S  \n2      male  62.0      0      0              240276    9.6875   NaN        Q  \n3      male  27.0      0      0              315154    8.6625   NaN        S  \n4    female  22.0      1      1             3101298   12.2875   NaN        S  \n..      ...   ...    ...    ...                 ...       ...   ...      ...  \n413    male   NaN      0      0           A.5. 3236    8.0500   NaN        S  \n414  female  39.0      0      0            PC 17758  108.9000  C105        C  \n415    male  38.5      0      0  SOTON/O.Q. 3101262    7.2500   NaN        S  \n416    male   NaN      0      0              359309    8.0500   NaN        S  \n417    male   NaN      1      1                2668   22.3583   NaN        C  \n\n[418 rows x 11 columns]",
      "text/html": "<div>\n<style scoped>\n    .dataframe tbody tr th:only-of-type {\n        vertical-align: middle;\n    }\n\n    .dataframe tbody tr th {\n        vertical-align: top;\n    }\n\n    .dataframe thead th {\n        text-align: right;\n    }\n</style>\n<table border=\"1\" class=\"dataframe\">\n  <thead>\n    <tr style=\"text-align: right;\">\n      <th></th>\n      <th>PassengerId</th>\n      <th>Pclass</th>\n      <th>Name</th>\n      <th>Sex</th>\n      <th>Age</th>\n      <th>SibSp</th>\n      <th>Parch</th>\n      <th>Ticket</th>\n      <th>Fare</th>\n      <th>Cabin</th>\n      <th>Embarked</th>\n    </tr>\n  </thead>\n  <tbody>\n    <tr>\n      <th>0</th>\n      <td>892</td>\n      <td>3</td>\n      <td>Kelly, Mr. James</td>\n      <td>male</td>\n      <td>34.5</td>\n      <td>0</td>\n      <td>0</td>\n      <td>330911</td>\n      <td>7.8292</td>\n      <td>NaN</td>\n      <td>Q</td>\n    </tr>\n    <tr>\n      <th>1</th>\n      <td>893</td>\n      <td>3</td>\n      <td>Wilkes, Mrs. James (Ellen Needs)</td>\n      <td>female</td>\n      <td>47.0</td>\n      <td>1</td>\n      <td>0</td>\n      <td>363272</td>\n      <td>7.0000</td>\n      <td>NaN</td>\n      <td>S</td>\n    </tr>\n    <tr>\n      <th>2</th>\n      <td>894</td>\n      <td>2</td>\n      <td>Myles, Mr. Thomas Francis</td>\n      <td>male</td>\n      <td>62.0</td>\n      <td>0</td>\n      <td>0</td>\n      <td>240276</td>\n      <td>9.6875</td>\n      <td>NaN</td>\n      <td>Q</td>\n    </tr>\n    <tr>\n      <th>3</th>\n      <td>895</td>\n      <td>3</td>\n      <td>Wirz, Mr. Albert</td>\n      <td>male</td>\n      <td>27.0</td>\n      <td>0</td>\n      <td>0</td>\n      <td>315154</td>\n      <td>8.6625</td>\n      <td>NaN</td>\n      <td>S</td>\n    </tr>\n    <tr>\n      <th>4</th>\n      <td>896</td>\n      <td>3</td>\n      <td>Hirvonen, Mrs. Alexander (Helga E Lindqvist)</td>\n      <td>female</td>\n      <td>22.0</td>\n      <td>1</td>\n      <td>1</td>\n      <td>3101298</td>\n      <td>12.2875</td>\n      <td>NaN</td>\n      <td>S</td>\n    </tr>\n    <tr>\n      <th>...</th>\n      <td>...</td>\n      <td>...</td>\n      <td>...</td>\n      <td>...</td>\n      <td>...</td>\n      <td>...</td>\n      <td>...</td>\n      <td>...</td>\n      <td>...</td>\n      <td>...</td>\n      <td>...</td>\n    </tr>\n    <tr>\n      <th>413</th>\n      <td>1305</td>\n      <td>3</td>\n      <td>Spector, Mr. Woolf</td>\n      <td>male</td>\n      <td>NaN</td>\n      <td>0</td>\n      <td>0</td>\n      <td>A.5. 3236</td>\n      <td>8.0500</td>\n      <td>NaN</td>\n      <td>S</td>\n    </tr>\n    <tr>\n      <th>414</th>\n      <td>1306</td>\n      <td>1</td>\n      <td>Oliva y Ocana, Dona. Fermina</td>\n      <td>female</td>\n      <td>39.0</td>\n      <td>0</td>\n      <td>0</td>\n      <td>PC 17758</td>\n      <td>108.9000</td>\n      <td>C105</td>\n      <td>C</td>\n    </tr>\n    <tr>\n      <th>415</th>\n      <td>1307</td>\n      <td>3</td>\n      <td>Saether, Mr. Simon Sivertsen</td>\n      <td>male</td>\n      <td>38.5</td>\n      <td>0</td>\n      <td>0</td>\n      <td>SOTON/O.Q. 3101262</td>\n      <td>7.2500</td>\n      <td>NaN</td>\n      <td>S</td>\n    </tr>\n    <tr>\n      <th>416</th>\n      <td>1308</td>\n      <td>3</td>\n      <td>Ware, Mr. Frederick</td>\n      <td>male</td>\n      <td>NaN</td>\n      <td>0</td>\n      <td>0</td>\n      <td>359309</td>\n      <td>8.0500</td>\n      <td>NaN</td>\n      <td>S</td>\n    </tr>\n    <tr>\n      <th>417</th>\n      <td>1309</td>\n      <td>3</td>\n      <td>Peter, Master. Michael J</td>\n      <td>male</td>\n      <td>NaN</td>\n      <td>1</td>\n      <td>1</td>\n      <td>2668</td>\n      <td>22.3583</td>\n      <td>NaN</td>\n      <td>C</td>\n    </tr>\n  </tbody>\n</table>\n<p>418 rows × 11 columns</p>\n</div>"
     },
     "execution_count": 10,
     "metadata": {},
     "output_type": "execute_result"
    }
   ],
   "source": [
    "a"
   ],
   "metadata": {
    "collapsed": false
   }
  },
  {
   "cell_type": "code",
   "execution_count": null,
   "outputs": [],
   "source": [],
   "metadata": {
    "collapsed": false
   }
  }
 ],
 "metadata": {
  "kernelspec": {
   "display_name": "Python 3",
   "language": "python",
   "name": "python3"
  },
  "language_info": {
   "codemirror_mode": {
    "name": "ipython",
    "version": 2
   },
   "file_extension": ".py",
   "mimetype": "text/x-python",
   "name": "python",
   "nbconvert_exporter": "python",
   "pygments_lexer": "ipython2",
   "version": "2.7.6"
  }
 },
 "nbformat": 4,
 "nbformat_minor": 0
}
